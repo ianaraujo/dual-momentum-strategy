{
 "cells": [
  {
   "cell_type": "markdown",
   "metadata": {},
   "source": [
    "# Relative Momentum"
   ]
  },
  {
   "cell_type": "markdown",
   "metadata": {},
   "source": [
    "Description"
   ]
  },
  {
   "cell_type": "code",
   "execution_count": 1,
   "metadata": {},
   "outputs": [],
   "source": [
    "import yfinance as yf\n",
    "import pandas as pd\n",
    "import numpy as np\n",
    "import matplotlib.pyplot as plt\n",
    "\n",
    "from utils import STAR_DATE, END_DATE"
   ]
  },
  {
   "cell_type": "markdown",
   "metadata": {},
   "source": [
    "### Importando os dados"
   ]
  },
  {
   "cell_type": "code",
   "execution_count": 2,
   "metadata": {},
   "outputs": [],
   "source": [
    "IBOV = yf.Ticker('^BVSP')\n",
    "\n",
    "ibov_prices = IBOV.history(start=STAR_DATE, end=END_DATE)['Close']\n",
    "ibov_prices.index = pd.to_datetime(ibov_prices.index).date"
   ]
  },
  {
   "cell_type": "code",
   "execution_count": 3,
   "metadata": {},
   "outputs": [],
   "source": [
    "SP500 = yf.Ticker('^GSPC')\n",
    "\n",
    "sp500_prices = SP500.history(start=STAR_DATE, end=END_DATE)['Close']\n",
    "sp500_prices.index = pd.to_datetime(sp500_prices.index).date"
   ]
  },
  {
   "cell_type": "code",
   "execution_count": 4,
   "metadata": {},
   "outputs": [],
   "source": [
    "USD = yf.Ticker('BRL=X')\n",
    "\n",
    "usd_prices = USD.history(period='max')['Close']\n",
    "usd_prices.index = pd.to_datetime(usd_prices.index).date"
   ]
  },
  {
   "cell_type": "code",
   "execution_count": 13,
   "metadata": {},
   "outputs": [
    {
     "data": {
      "text/plain": [
       "2003-12-01    2.9230\n",
       "2003-12-02    2.9310\n",
       "2003-12-03    2.9310\n",
       "2003-12-04    2.9430\n",
       "2003-12-05    2.9340\n",
       "               ...  \n",
       "2024-09-03    5.6151\n",
       "2024-09-04    5.6475\n",
       "2024-09-05    5.6420\n",
       "2024-09-06    5.5675\n",
       "2024-09-08    5.5897\n",
       "Name: Close, Length: 4974, dtype: float64"
      ]
     },
     "execution_count": 13,
     "metadata": {},
     "output_type": "execute_result"
    }
   ],
   "source": [
    "usd_prices"
   ]
  },
  {
   "cell_type": "code",
   "execution_count": 5,
   "metadata": {},
   "outputs": [],
   "source": [
    "brl_usd = pd.concat([sp500_prices, usd_prices], keys=['SP500', 'BRL/USD'], join='inner', axis=1)\n",
    "brl_usd['SP500 BRL'] = brl_usd['SP500'] * brl_usd['BRL/USD']"
   ]
  },
  {
   "cell_type": "code",
   "execution_count": 6,
   "metadata": {},
   "outputs": [
    {
     "data": {
      "text/html": [
       "<div>\n",
       "<style scoped>\n",
       "    .dataframe tbody tr th:only-of-type {\n",
       "        vertical-align: middle;\n",
       "    }\n",
       "\n",
       "    .dataframe tbody tr th {\n",
       "        vertical-align: top;\n",
       "    }\n",
       "\n",
       "    .dataframe thead th {\n",
       "        text-align: right;\n",
       "    }\n",
       "</style>\n",
       "<table border=\"1\" class=\"dataframe\">\n",
       "  <thead>\n",
       "    <tr style=\"text-align: right;\">\n",
       "      <th></th>\n",
       "      <th>IBOV</th>\n",
       "      <th>SP500 BRL</th>\n",
       "    </tr>\n",
       "  </thead>\n",
       "  <tbody>\n",
       "    <tr>\n",
       "      <th>2004-01-02</th>\n",
       "      <td>1.000000</td>\n",
       "      <td>1.000000</td>\n",
       "    </tr>\n",
       "    <tr>\n",
       "      <th>2004-01-05</th>\n",
       "      <td>1.048429</td>\n",
       "      <td>1.004299</td>\n",
       "    </tr>\n",
       "    <tr>\n",
       "      <th>2004-01-06</th>\n",
       "      <td>1.050390</td>\n",
       "      <td>1.010179</td>\n",
       "    </tr>\n",
       "    <tr>\n",
       "      <th>2004-01-07</th>\n",
       "      <td>1.038984</td>\n",
       "      <td>1.009744</td>\n",
       "    </tr>\n",
       "    <tr>\n",
       "      <th>2004-01-08</th>\n",
       "      <td>1.056672</td>\n",
       "      <td>1.013335</td>\n",
       "    </tr>\n",
       "    <tr>\n",
       "      <th>...</th>\n",
       "      <td>...</td>\n",
       "      <td>...</td>\n",
       "    </tr>\n",
       "    <tr>\n",
       "      <th>2024-08-30</th>\n",
       "      <td>6.059434</td>\n",
       "      <td>9.971021</td>\n",
       "    </tr>\n",
       "    <tr>\n",
       "      <th>2024-09-03</th>\n",
       "      <td>5.985877</td>\n",
       "      <td>9.738271</td>\n",
       "    </tr>\n",
       "    <tr>\n",
       "      <th>2024-09-04</th>\n",
       "      <td>6.064201</td>\n",
       "      <td>9.778767</td>\n",
       "    </tr>\n",
       "    <tr>\n",
       "      <th>2024-09-05</th>\n",
       "      <td>6.081622</td>\n",
       "      <td>9.739760</td>\n",
       "    </tr>\n",
       "    <tr>\n",
       "      <th>2024-09-06</th>\n",
       "      <td>5.995634</td>\n",
       "      <td>9.445260</td>\n",
       "    </tr>\n",
       "  </tbody>\n",
       "</table>\n",
       "<p>4581 rows × 2 columns</p>\n",
       "</div>"
      ],
      "text/plain": [
       "                IBOV  SP500 BRL\n",
       "2004-01-02  1.000000   1.000000\n",
       "2004-01-05  1.048429   1.004299\n",
       "2004-01-06  1.050390   1.010179\n",
       "2004-01-07  1.038984   1.009744\n",
       "2004-01-08  1.056672   1.013335\n",
       "...              ...        ...\n",
       "2024-08-30  6.059434   9.971021\n",
       "2024-09-03  5.985877   9.738271\n",
       "2024-09-04  6.064201   9.778767\n",
       "2024-09-05  6.081622   9.739760\n",
       "2024-09-06  5.995634   9.445260\n",
       "\n",
       "[4581 rows x 2 columns]"
      ]
     },
     "execution_count": 6,
     "metadata": {},
     "output_type": "execute_result"
    }
   ],
   "source": [
    "relative_prices = pd.concat([ibov_prices, brl_usd['SP500 BRL']], keys=['IBOV', 'SP500 BRL'], join='inner', axis=1)\n",
    "relative_prices = (relative_prices / relative_prices.iloc[0])\n",
    "\n",
    "relative_prices"
   ]
  },
  {
   "cell_type": "code",
   "execution_count": 7,
   "metadata": {},
   "outputs": [
    {
     "data": {
      "image/png": "[encoded data removed]",
      "text/plain": [
       "<Figure size 640x480 with 1 Axes>"
      ]
     },
     "metadata": {},
     "output_type": "display_data"
    }
   ],
   "source": [
    "\n",
    "plt.plot(relative_prices)\n",
    "plt.legend(relative_prices.columns)\n",
    "plt.show()"
   ]
  }
 ],
 "metadata": {
  "kernelspec": {
   "display_name": "env",
   "language": "python",
   "name": "python3"
  },
  "language_info": {
   "codemirror_mode": {
    "name": "ipython",
    "version": 3
   },
   "file_extension": ".py",
   "mimetype": "text/x-python",
   "name": "python",
   "nbconvert_exporter": "python",
   "pygments_lexer": "ipython3",
   "version": "3.10.12"
  }
 },
 "nbformat": 4,
 "nbformat_minor": 2
}
